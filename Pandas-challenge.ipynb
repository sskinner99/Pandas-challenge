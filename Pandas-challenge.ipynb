{
 "metadata": {
  "language_info": {
   "codemirror_mode": {
    "name": "ipython",
    "version": 3
   },
   "file_extension": ".py",
   "mimetype": "text/x-python",
   "name": "python",
   "nbconvert_exporter": "python",
   "pygments_lexer": "ipython3",
   "version": "3.8.3-final"
  },
  "orig_nbformat": 2,
  "kernelspec": {
   "name": "python3",
   "display_name": "Python 3"
  }
 },
 "nbformat": 4,
 "nbformat_minor": 2,
 "cells": [
  {
   "cell_type": "code",
   "execution_count": 138,
   "metadata": {},
   "outputs": [
    {
     "output_type": "execute_result",
     "data": {
      "text/plain": [
       "   Purchase ID             SN  Age Gender  Item ID  \\\n",
       "0            0        Lisim78   20   Male      108   \n",
       "1            1    Lisovynya38   40   Male      143   \n",
       "2            2     Ithergue48   24   Male       92   \n",
       "3            3  Chamassasya86   24   Male      100   \n",
       "4            4      Iskosia90   23   Male      131   \n",
       "\n",
       "                                   Item Name  Price  \n",
       "0  Extraction, Quickblade Of Trembling Hands   3.53  \n",
       "1                          Frenzied Scimitar   1.56  \n",
       "2                               Final Critic   4.88  \n",
       "3                                Blindscythe   3.27  \n",
       "4                                       Fury   1.44  "
      ],
      "text/html": "<div>\n<style scoped>\n    .dataframe tbody tr th:only-of-type {\n        vertical-align: middle;\n    }\n\n    .dataframe tbody tr th {\n        vertical-align: top;\n    }\n\n    .dataframe thead th {\n        text-align: right;\n    }\n</style>\n<table border=\"1\" class=\"dataframe\">\n  <thead>\n    <tr style=\"text-align: right;\">\n      <th></th>\n      <th>Purchase ID</th>\n      <th>SN</th>\n      <th>Age</th>\n      <th>Gender</th>\n      <th>Item ID</th>\n      <th>Item Name</th>\n      <th>Price</th>\n    </tr>\n  </thead>\n  <tbody>\n    <tr>\n      <th>0</th>\n      <td>0</td>\n      <td>Lisim78</td>\n      <td>20</td>\n      <td>Male</td>\n      <td>108</td>\n      <td>Extraction, Quickblade Of Trembling Hands</td>\n      <td>3.53</td>\n    </tr>\n    <tr>\n      <th>1</th>\n      <td>1</td>\n      <td>Lisovynya38</td>\n      <td>40</td>\n      <td>Male</td>\n      <td>143</td>\n      <td>Frenzied Scimitar</td>\n      <td>1.56</td>\n    </tr>\n    <tr>\n      <th>2</th>\n      <td>2</td>\n      <td>Ithergue48</td>\n      <td>24</td>\n      <td>Male</td>\n      <td>92</td>\n      <td>Final Critic</td>\n      <td>4.88</td>\n    </tr>\n    <tr>\n      <th>3</th>\n      <td>3</td>\n      <td>Chamassasya86</td>\n      <td>24</td>\n      <td>Male</td>\n      <td>100</td>\n      <td>Blindscythe</td>\n      <td>3.27</td>\n    </tr>\n    <tr>\n      <th>4</th>\n      <td>4</td>\n      <td>Iskosia90</td>\n      <td>23</td>\n      <td>Male</td>\n      <td>131</td>\n      <td>Fury</td>\n      <td>1.44</td>\n    </tr>\n  </tbody>\n</table>\n</div>"
     },
     "metadata": {},
     "execution_count": 138
    }
   ],
   "source": [
    "#Pandas-challenge\n",
    "\n",
    "#Before You Begin\n",
    "\n",
    "#Create a new repository for this project called pandas-challenge. Do not add this homework to an existing repository.\n",
    "\n",
    "#Clone the new repository to your computer.\n",
    "\n",
    "#Inside your local git repository, create a directory for the Pandas Challenge you choose. Use folder names corresponding to the challenges: HeroesOfPymoli or  PyCitySchools.\n",
    "\n",
    "#Add your Jupyter notebook to this folder. This will be the main script to run for analysis.\n",
    "\n",
    "#Push the above changes to GitHub or GitLab.\n",
    "\n",
    "import pandas as pd\n",
    "\n",
    "# The path to our CSV file\n",
    "\n",
    "file = \"resources/Pymoli_purchase_data.csv\"\n",
    "\n",
    "df = pd.read_csv(file)\n",
    "df.head()\n",
    "\n"
   ]
  },
  {
   "cell_type": "code",
   "execution_count": 139,
   "metadata": {},
   "outputs": [
    {
     "output_type": "stream",
     "name": "stdout",
     "text": [
      "Player Count = 780\n"
     ]
    }
   ],
   "source": [
    "\n",
    "\n",
    "#Player Count\n",
    "Player_Count = df[\"SN\"].count() \n",
    "print(f\"Player Count = {Player_Count}\")\n"
   ]
  },
  {
   "cell_type": "code",
   "execution_count": 140,
   "metadata": {},
   "outputs": [
    {
     "output_type": "stream",
     "name": "stdout",
     "text": [
      "Number of Unique Items = 179\n"
     ]
    }
   ],
   "source": [
    "#Purchasing Analysis (Total)\n",
    "#print Purchasing Analysis\n",
    "#Number of Unique Items\n",
    "#NumberofUniqueItems = df[\"Item_ID\"]\n",
    "NumberofUniqueItems = len(df[\"Item ID\"].unique().tolist())\n",
    "print(f\"Number of Unique Items = {NumberofUniqueItems}\")\n",
    "\n",
    "\n",
    "\n"
   ]
  },
  {
   "cell_type": "code",
   "execution_count": 141,
   "metadata": {},
   "outputs": [
    {
     "output_type": "stream",
     "name": "stdout",
     "text": [
      "Average Purchase Price) = 3.050987179487176\n\nTotal Number of Purchases) = 780\n\nTotal Revenue) = 2379.77\n"
     ]
    }
   ],
   "source": [
    "#Average Purchase Price\n",
    "AveragePurchasePrice = df['Price'].mean()\n",
    "print (f\"Average Purchase Price) = {AveragePurchasePrice}\\n\"),2\n",
    "\n",
    "#Total Number of Purchases\n",
    "TotalNumberofPurchases = df['Purchase ID'].count()\n",
    "print (f\"Total Number of Purchases) = {TotalNumberofPurchases}\\n\")\n",
    "\n",
    "#Total Revenue\n",
    "TotalRevenue = df['Price'].sum()\n",
    "\n",
    "print (f\"Total Revenue) = {TotalRevenue}\")\n",
    "\n",
    "\n"
   ]
  },
  {
   "cell_type": "code",
   "execution_count": 142,
   "metadata": {},
   "outputs": [
    {
     "output_type": "execute_result",
     "data": {
      "text/plain": [
       "   Number of Unique Items  Average Price  Number of Purchases  Total Revenue\n",
       "0                     179       3.050987                  780        2379.77"
      ],
      "text/html": "<div>\n<style scoped>\n    .dataframe tbody tr th:only-of-type {\n        vertical-align: middle;\n    }\n\n    .dataframe tbody tr th {\n        vertical-align: top;\n    }\n\n    .dataframe thead th {\n        text-align: right;\n    }\n</style>\n<table border=\"1\" class=\"dataframe\">\n  <thead>\n    <tr style=\"text-align: right;\">\n      <th></th>\n      <th>Number of Unique Items</th>\n      <th>Average Price</th>\n      <th>Number of Purchases</th>\n      <th>Total Revenue</th>\n    </tr>\n  </thead>\n  <tbody>\n    <tr>\n      <th>0</th>\n      <td>179</td>\n      <td>3.050987</td>\n      <td>780</td>\n      <td>2379.77</td>\n    </tr>\n  </tbody>\n</table>\n</div>"
     },
     "metadata": {},
     "execution_count": 142
    }
   ],
   "source": [
    "#Number of Unique Items      Average Price      Number of Purchases      Total Revenue\n",
    "\n",
    "PurchasingAnalysis = pd.DataFrame({\n",
    "    \"Number of Unique Items\": [NumberofUniqueItems],\n",
    "    \"Average Price\": [AveragePurchasePrice],\n",
    "    \"Number of Purchases\": [TotalNumberofPurchases],\n",
    "    \"Total Revenue\": [TotalRevenue]\n",
    "})\n",
    "PurchasingAnalysis\n"
   ]
  },
  {
   "cell_type": "code",
   "execution_count": 143,
   "metadata": {},
   "outputs": [
    {
     "output_type": "execute_result",
     "data": {
      "text/plain": [
       "                       Gender  Percentage of Players\n",
       "Male                      652                   0.84\n",
       "Female                    113                   0.14\n",
       "Other / Non-Disclosed      15                   0.02"
      ],
      "text/html": "<div>\n<style scoped>\n    .dataframe tbody tr th:only-of-type {\n        vertical-align: middle;\n    }\n\n    .dataframe tbody tr th {\n        vertical-align: top;\n    }\n\n    .dataframe thead th {\n        text-align: right;\n    }\n</style>\n<table border=\"1\" class=\"dataframe\">\n  <thead>\n    <tr style=\"text-align: right;\">\n      <th></th>\n      <th>Gender</th>\n      <th>Percentage of Players</th>\n    </tr>\n  </thead>\n  <tbody>\n    <tr>\n      <th>Male</th>\n      <td>652</td>\n      <td>0.84</td>\n    </tr>\n    <tr>\n      <th>Female</th>\n      <td>113</td>\n      <td>0.14</td>\n    </tr>\n    <tr>\n      <th>Other / Non-Disclosed</th>\n      <td>15</td>\n      <td>0.02</td>\n    </tr>\n  </tbody>\n</table>\n</div>"
     },
     "metadata": {},
     "execution_count": 143
    }
   ],
   "source": [
    "GenderCounts = df[\"Gender\"].value_counts()\n",
    "Genderdf = pd.DataFrame(GenderCounts)\n",
    "Genderdf[\"Percentage of Players\"] = round(Genderdf[\"Gender\"]/Player_Count,2)\n",
    "Genderdf\n",
    "\n"
   ]
  },
  {
   "cell_type": "code",
   "execution_count": 144,
   "metadata": {},
   "outputs": [
    {
     "output_type": "execute_result",
     "data": {
      "text/plain": [
       "Gender\n",
       "Female                   3.203009\n",
       "Male                     3.017853\n",
       "Other / Non-Disclosed    3.346000\n",
       "Name: Price, dtype: float64"
      ]
     },
     "metadata": {},
     "execution_count": 144
    }
   ],
   "source": [
    "AveragePricebyGender = df.groupby([\"Gender\"]).mean()[\"Price\"]\n",
    "AveragePricebyGender\n"
   ]
  },
  {
   "cell_type": "code",
   "execution_count": 152,
   "metadata": {},
   "outputs": [
    {
     "output_type": "execute_result",
     "data": {
      "text/plain": [
       "                       Gender  Total Revenue\n",
       "Male                      652           0.27\n",
       "Female                    113           0.05\n",
       "Other / Non-Disclosed      15           0.01"
      ],
      "text/html": "<div>\n<style scoped>\n    .dataframe tbody tr th:only-of-type {\n        vertical-align: middle;\n    }\n\n    .dataframe tbody tr th {\n        vertical-align: top;\n    }\n\n    .dataframe thead th {\n        text-align: right;\n    }\n</style>\n<table border=\"1\" class=\"dataframe\">\n  <thead>\n    <tr style=\"text-align: right;\">\n      <th></th>\n      <th>Gender</th>\n      <th>Total Revenue</th>\n    </tr>\n  </thead>\n  <tbody>\n    <tr>\n      <th>Male</th>\n      <td>652</td>\n      <td>0.27</td>\n    </tr>\n    <tr>\n      <th>Female</th>\n      <td>113</td>\n      <td>0.05</td>\n    </tr>\n    <tr>\n      <th>Other / Non-Disclosed</th>\n      <td>15</td>\n      <td>0.01</td>\n    </tr>\n  </tbody>\n</table>\n</div>"
     },
     "metadata": {},
     "execution_count": 152
    }
   ],
   "source": [
    "#Purchasing Analysis (Gender)\n",
    "\n",
    "#The below each broken by gender\n",
    "\n",
    "\n",
    "# PurchaseCount = \n",
    "# AveragePurchasePrice = \n",
    "# #Total Purchase Value\n",
    "# #Average Purchase Total per Person by Gender\n",
    "\n",
    "GenderCounts = df[\"Gender\"].value_counts()\n",
    "Genderdf = pd.DataFrame(GenderCounts)\n",
    "Genderdf[\"Total Revenue\"] = round(Genderdf[\"Gender\"]/TotalRevenue,2)\n",
    "Genderdf\n",
    "\n",
    "\n",
    "   \n",
    "\n"
   ]
  },
  {
   "cell_type": "code",
   "execution_count": null,
   "metadata": {},
   "outputs": [],
   "source": [
    "#Age Demographics\n",
    "\n",
    "#The below each broken into bins of 4 years (i.e. <10, 10-14, 15-19, etc.)\n",
    "\n",
    "#Purchase Count\n",
    "#Average Purchase Price\n",
    "#Total Purchase Value\n",
    "#Average Purchase Total per Person by Age Group\n",
    "\n",
    "#Top Spenders\n",
    "\n",
    "#Identify the the top 5 spenders in the game by total purchase value, then list (in a table):\n",
    "Top5Spenders = ['Price']\n",
    "\n",
    "#SN\n",
    "\n",
    "#Purchase Count\n",
    "#Average Purchase Price\n",
    "#Total Purchase Value\n",
    "\n",
    "#Most Popular Items\n",
    "\n"
   ]
  },
  {
   "cell_type": "code",
   "execution_count": null,
   "metadata": {},
   "outputs": [],
   "source": [
    "#Identify the 5 most popular items by purchase count, then list (in a table):\n",
    "\n",
    "#Item ID\n",
    "#Item Name\n",
    "#Purchase Count\n",
    "#Item Price\n",
    "#Total Purchase Value\n",
    "\n",
    "#Most Profitable Items\n",
    "\n"
   ]
  },
  {
   "cell_type": "code",
   "execution_count": null,
   "metadata": {},
   "outputs": [],
   "source": [
    "#As final considerations:\n",
    "\n",
    "#You must use the Pandas Library and the Jupyter Notebook.\n",
    "#You must submit a link to your Jupyter Notebook with the viewable Data Frames.\n",
    "#You must include a written description of three observable trends based on the data.\n",
    "#See Example Solution for a reference on expected format."
   ]
  },
  {
   "cell_type": "code",
   "execution_count": null,
   "metadata": {},
   "outputs": [],
   "source": []
  }
 ]
}